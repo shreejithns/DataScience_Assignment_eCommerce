{
 "cells": [
  {
   "cell_type": "code",
   "execution_count": 1,
   "metadata": {},
   "outputs": [],
   "source": [
    "import pandas as pd\n",
    "from sklearn.metrics.pairwise import cosine_similarity\n",
    "\n",
    "# Load datasets\n",
    "customers = pd.read_csv('Customers.csv')\n",
    "transactions = pd.read_csv('Transactions.csv')\n",
    "\n",
    "# Merge datasets to create features\n",
    "transactions['TotalSpend'] = transactions['Quantity'] * transactions['Price']\n",
    "data = transactions.groupby('CustomerID').agg({\n",
    "    'TotalSpend': 'sum',\n",
    "    'Quantity': 'sum'\n",
    "}).reset_index()\n",
    "\n",
    "# Calculate similarity\n",
    "similarity_matrix = cosine_similarity(data.drop('CustomerID', axis=1))\n",
    "\n",
    "# Get recommendations for first 20 customers\n",
    "lookalikes = {}\n",
    "for i in range(20):\n",
    "    scores = list(enumerate(similarity_matrix[i]))\n",
    "    scores = sorted(scores, key=lambda x: x[1], reverse=True)[1:4]\n",
    "    lookalikes[data['CustomerID'][i]] = [(data['CustomerID'][s[0]], s[1]) for s in scores]\n",
    "\n",
    "# Save recommendations to a CSV\n",
    "import csv\n",
    "with open('Lookalike.csv', 'w', newline='') as file:\n",
    "    writer = csv.writer(file)\n",
    "    writer.writerow(['CustomerID', 'Recommendations'])\n",
    "    for customer, recs in lookalikes.items():\n",
    "        writer.writerow([customer, recs])\n"
   ]
  }
 ],
 "metadata": {
  "kernelspec": {
   "display_name": "Python 3",
   "language": "python",
   "name": "python3"
  },
  "language_info": {
   "codemirror_mode": {
    "name": "ipython",
    "version": 3
   },
   "file_extension": ".py",
   "mimetype": "text/x-python",
   "name": "python",
   "nbconvert_exporter": "python",
   "pygments_lexer": "ipython3",
   "version": "3.12.7"
  }
 },
 "nbformat": 4,
 "nbformat_minor": 2
}
